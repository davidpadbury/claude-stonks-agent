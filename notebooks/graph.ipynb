{
 "cells": [
  {
   "cell_type": "code",
   "execution_count": 1,
   "metadata": {},
   "outputs": [],
   "source": [
    "%load_ext autoreload\n",
    "%autoreload 2\n",
    "\n",
    "from dotenv import load_dotenv\n",
    "\n",
    "if not load_dotenv():\n",
    "    print(\"Failed to load .env file\")"
   ]
  },
  {
   "cell_type": "code",
   "execution_count": 2,
   "metadata": {},
   "outputs": [],
   "source": [
    "# We can do the same thing with a SQLite cache\n",
    "from langchain.globals import set_llm_cache\n",
    "from langchain.cache import SQLiteCache\n",
    "\n",
    "set_llm_cache(SQLiteCache(database_path=\".claude.cache.db\"))"
   ]
  },
  {
   "cell_type": "code",
   "execution_count": 3,
   "metadata": {},
   "outputs": [
    {
     "name": "stdout",
     "output_type": "stream",
     "text": [
      "{'entry': {'steps': [HumanInputStep(\"what was the price of amazon at the start of the year?\")]}}\n",
      "{'main': {'steps': [ToolCallStep(\"search_for_symbol(term=amazon)\")]}}\n",
      "{'tools': {'steps': [ToolCallResultStep(\"search_for_symbol(term=amazon) -> <results>\n",
      "<result>\n",
      "<symbol>AMZN</symbol>\n",
      "<name>Amazon.com Inc</name>\n",
      "</result>\n",
      "<result>\n",
      "<symbol>AZFL</symbol>\n",
      "<name>Amazonas Florestal Ltd</name>\n",
      "</result>\n",
      "</results>\n",
      "\")]}}\n",
      "{'main': {'steps': [ToolCallStep(\"current_date()\")]}}\n",
      "{'tools': {'steps': [ToolCallResultStep(\"current_date() -> 2024-02-25\")]}}\n",
      "{'main': {'steps': [ToolCallStep(\"price_at_date(symbol=AMZN, date=2024-01-01)\")]}}\n",
      "{'tools': {'steps': [ToolCallResultStep(\"price_at_date(symbol=AMZN, date=2024-01-01) -> 151.94\")]}}\n",
      "{'main': {'steps': [AgentOutcomeStep(So the price of Amazon stock at the start of 2024 on January 1st was $151.94.)]}}\n",
      "{'__end__': {'input': 'what was the price of amazon at the start of the year?', 'steps': [HumanInputStep(\"what was the price of amazon at the start of the year?\"), ToolCallStep(\"search_for_symbol(term=amazon)\"), ToolCallResultStep(\"search_for_symbol(term=amazon) -> <results>\n",
      "<result>\n",
      "<symbol>AMZN</symbol>\n",
      "<name>Amazon.com Inc</name>\n",
      "</result>\n",
      "<result>\n",
      "<symbol>AZFL</symbol>\n",
      "<name>Amazonas Florestal Ltd</name>\n",
      "</result>\n",
      "</results>\n",
      "\"), ToolCallStep(\"current_date()\"), ToolCallResultStep(\"current_date() -> 2024-02-25\"), ToolCallStep(\"price_at_date(symbol=AMZN, date=2024-01-01)\"), ToolCallResultStep(\"price_at_date(symbol=AMZN, date=2024-01-01) -> 151.94\"), AgentOutcomeStep(So the price of Amazon stock at the start of 2024 on January 1st was $151.94.)]}}\n",
      "\n",
      "So the price of Amazon stock at the start of 2024 on January 1st was $151.94.\n"
     ]
    }
   ],
   "source": [
    "from langgraph.graph import END\n",
    "from claude_stonks_agent.graph import create_graph, AgentOutcomeStep\n",
    "\n",
    "graph = create_graph()\n",
    "\n",
    "question = 'what was the price of amazon at the start of the year?'\n",
    "request = {'input': question}\n",
    "\n",
    "last_state = None\n",
    "\n",
    "for s in graph.stream(input=request):\n",
    "    print(s)\n",
    "    last_state = s\n",
    "\n",
    "last_step = last_state[END]['steps'][-1]\n",
    "\n",
    "match last_step:\n",
    "    case AgentOutcomeStep():\n",
    "        print(last_step.output)\n",
    "    case _:\n",
    "        print(f\"Unexpected outcome: {last_step}\")"
   ]
  }
 ],
 "metadata": {
  "kernelspec": {
   "display_name": ".venv",
   "language": "python",
   "name": "python3"
  },
  "language_info": {
   "codemirror_mode": {
    "name": "ipython",
    "version": 3
   },
   "file_extension": ".py",
   "mimetype": "text/x-python",
   "name": "python",
   "nbconvert_exporter": "python",
   "pygments_lexer": "ipython3",
   "version": "3.11.2"
  }
 },
 "nbformat": 4,
 "nbformat_minor": 2
}
