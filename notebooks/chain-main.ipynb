{
 "cells": [
  {
   "cell_type": "code",
   "execution_count": 1,
   "metadata": {},
   "outputs": [],
   "source": [
    "%load_ext autoreload\n",
    "%autoreload 2\n",
    "\n",
    "from dotenv import load_dotenv\n",
    "\n",
    "if not load_dotenv():\n",
    "    print(\"Failed to load .env file\")"
   ]
  },
  {
   "cell_type": "code",
   "execution_count": 3,
   "metadata": {},
   "outputs": [],
   "source": [
    "from claude_stonks_agent.chains.main import create_chain\n",
    "from claude_stonks_agent.tools import create_alpha_vantage_tools\n",
    "from claude_stonks_agent.alpha_vantage import AlphaVantageService\n",
    "\n",
    "alpha_vantage_tools = create_alpha_vantage_tools(AlphaVantageService.create())\n",
    "\n",
    "chain = create_chain(tools=alpha_vantage_tools)"
   ]
  },
  {
   "cell_type": "code",
   "execution_count": 5,
   "metadata": {},
   "outputs": [
    {
     "data": {
      "text/plain": [
       "AgentActions(actions=[AgentAction(tool='search_for_symbol', tool_input={'term': 'amazon'}, log='')], log=' <function_calls>\\n<invoke>\\n<tool_name>search_for_symbol</tool_name>\\n<parameters>\\n<term>amazon</term>\\n</parameters>\\n</invoke>\\n</function_calls>')"
      ]
     },
     "execution_count": 5,
     "metadata": {},
     "output_type": "execute_result"
    }
   ],
   "source": [
    "from claude_stonks_agent.claude import extract_agent_actions\n",
    "\n",
    "result = chain.invoke({\n",
    "    'messages': [\n",
    "        ('human', 'what is the current price of amazon?')\n",
    "    ]\n",
    "})\n",
    "\n",
    "agent_actions = extract_agent_actions(result)\n",
    "agent_actions"
   ]
  }
 ],
 "metadata": {
  "kernelspec": {
   "display_name": ".venv",
   "language": "python",
   "name": "python3"
  },
  "language_info": {
   "codemirror_mode": {
    "name": "ipython",
    "version": 3
   },
   "file_extension": ".py",
   "mimetype": "text/x-python",
   "name": "python",
   "nbconvert_exporter": "python",
   "pygments_lexer": "ipython3",
   "version": "3.11.2"
  }
 },
 "nbformat": 4,
 "nbformat_minor": 2
}
