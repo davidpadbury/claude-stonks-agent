{
 "cells": [
  {
   "cell_type": "code",
   "execution_count": 1,
   "metadata": {},
   "outputs": [],
   "source": [
    "%load_ext autoreload\n",
    "%autoreload 2"
   ]
  },
  {
   "cell_type": "code",
   "execution_count": 2,
   "metadata": {},
   "outputs": [],
   "source": [
    "from dotenv import load_dotenv\n",
    "\n",
    "if not load_dotenv():\n",
    "    print(\"Failed to load .env file\")"
   ]
  },
  {
   "cell_type": "code",
   "execution_count": 7,
   "metadata": {},
   "outputs": [],
   "source": [
    "import os\n",
    "from claude_stock_agent.alpha_vantage import AlphaVantageService\n",
    "\n",
    "service = AlphaVantageService.create()"
   ]
  },
  {
   "cell_type": "code",
   "execution_count": 8,
   "metadata": {},
   "outputs": [
    {
     "data": {
      "text/plain": [
       "[SearchResult(name='NVIDIA Corp', symbol='NVDA', type='Equity', region='United States', currency='USD')]"
      ]
     },
     "execution_count": 8,
     "metadata": {},
     "output_type": "execute_result"
    }
   ],
   "source": [
    "service.search('nvidia')"
   ]
  },
  {
   "cell_type": "code",
   "execution_count": 9,
   "metadata": {},
   "outputs": [
    {
     "name": "stdout",
     "output_type": "stream",
     "text": [
      "Found 6117 results\n"
     ]
    },
    {
     "data": {
      "text/plain": [
       "[TimeSeriesDaily(date='2024-02-23', open=807.9, high=823.94, low=775.7, close=788.17, volume=82938837),\n",
       " TimeSeriesDaily(date='2024-02-22', open=750.25, high=785.75, low=742.2, close=785.38, volume=86509974),\n",
       " TimeSeriesDaily(date='2024-02-21', open=680.06, high=688.88, low=662.48, close=674.72, volume=69029813),\n",
       " TimeSeriesDaily(date='2024-02-20', open=719.47, high=719.56, low=677.34, close=694.52, volume=70483310),\n",
       " TimeSeriesDaily(date='2024-02-16', open=741.0, high=744.02, low=725.01, close=726.13, volume=49532662),\n",
       " TimeSeriesDaily(date='2024-02-15', open=738.69, high=739.75, low=724.0, close=726.58, volume=42012181),\n",
       " TimeSeriesDaily(date='2024-02-14', open=732.02, high=742.36, low=719.38, close=739.0, volume=50491742),\n",
       " TimeSeriesDaily(date='2024-02-13', open=704.0, high=734.5, low=696.2, close=721.28, volume=60258015),\n",
       " TimeSeriesDaily(date='2024-02-12', open=726.0, high=746.11, low=712.5, close=722.48, volume=61371018),\n",
       " TimeSeriesDaily(date='2024-02-09', open=705.33, high=721.85, low=702.12, close=721.33, volume=43663689)]"
      ]
     },
     "execution_count": 9,
     "metadata": {},
     "output_type": "execute_result"
    }
   ],
   "source": [
    "results = service.fetch_daily('NVDA')\n",
    "print(f'Found {len(results)} results')\n",
    "results[:10]"
   ]
  },
  {
   "cell_type": "code",
   "execution_count": 11,
   "metadata": {},
   "outputs": [
    {
     "data": {
      "text/plain": [
       "174.99"
      ]
     },
     "execution_count": 11,
     "metadata": {},
     "output_type": "execute_result"
    }
   ],
   "source": [
    "service.latest_price('AMZN')"
   ]
  },
  {
   "cell_type": "code",
   "execution_count": 16,
   "metadata": {},
   "outputs": [
    {
     "data": {
      "text/plain": [
       "13151779796.34"
      ]
     },
     "execution_count": 16,
     "metadata": {},
     "output_type": "execute_result"
    }
   ],
   "source": [
    "service.market_cap_on_date('AAPL', '2021-01-01')"
   ]
  }
 ],
 "metadata": {
  "kernelspec": {
   "display_name": ".venv",
   "language": "python",
   "name": "python3"
  },
  "language_info": {
   "codemirror_mode": {
    "name": "ipython",
    "version": 3
   },
   "file_extension": ".py",
   "mimetype": "text/x-python",
   "name": "python",
   "nbconvert_exporter": "python",
   "pygments_lexer": "ipython3",
   "version": "3.11.2"
  }
 },
 "nbformat": 4,
 "nbformat_minor": 2
}
